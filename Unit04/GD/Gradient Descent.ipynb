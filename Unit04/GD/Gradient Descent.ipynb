{
 "cells": [
  {
   "cell_type": "markdown",
   "id": "f235ef7e",
   "metadata": {},
   "source": [
    "# 梯度下降\n",
    "梯度下降法的定義是：\n",
    "\n",
    "$w^{j+1}=w^j-\\alpha\\nabla E(w)，j 為迭代次數，\\alpha 為學習率。$\n",
    "\n",
    "其中 $\\nabla$ 就是梯度，一次微分的意思。<br>\n",
    "若是單純的 $y=ax+b$ 的情況，一次微分就是斜率。<br>\n",
    "只是在多變量的情境中，斜率這個名稱太狹隘，於是在數學上就稱為「梯度」。<br>\n",
    "\n",
    "梯度的算法就是對每個變量作一次偏微分。\n",
    "例如，給一函數為：$f(x,y)=x^2+2xy+y^2$。<br>\n",
    "                                 \n",
    "計算其梯度為：$\\mathrm{\\nabla}\\ f\\left(x_1,x_2\\right)=\\left(\\frac{\\partial f\\left(x_1,x_2\\right)}{\\partial x_1},\\ \\frac{\\partial f\\left(x_1,x_2\\right)}{\\partial x_2}\\right)=\\left(2x_1+1,\\ 2x_2+1\\right)$ <br>\n",
    "\n",
    "當 $(x_1, x_2)=(1, 2)$ 時，$\\mathrm{\\nabla}\\ f\\left(1,\\ 2\\right)=\\left(3,\\ 5\\right)$。\n",
    "上述結果用白話文來說，即 $x_1$ 方向上的斜率為 $3$；$x_2$ 方向上的斜率為 $5$ 的意思。\n",
    "\n",
    "回過頭來看剛剛給的函數：$E(w)=w^2$，\n",
    "我們這就來「手動」跑一次梯度下降法。\n",
    "\n",
    "假定，第一次隨機初始化點位，$w=5$。\n",
    "![](GD.png)\n",
    "在初始化點位 (5, 25) 上，經計算後的切線斜率，也就是梯度，為 +10，這會影響幾件事情：\n",
    "\n",
    "### 1. 方向：將梯度的方向取負號，就是我們想要移動的方向。\n",
    "### 2. 大小：由於學習率固定，因此梯度值愈大，每次移動的距離愈遠！\n",
    "\n",
    "![](GD_2.png)\n",
    "\n",
    "![](GD_3.png)\n",
    "\n",
    "### 這個反覆迭代的過程會一直到終止條件出現為止，例如：\n",
    "#### 1. 迭代次數達到某個值。\n",
    "#### 2. 迭代後的 loss 值間的差異小於某個數。\n",
    "#### 3. 程式執行總時間限制。"
   ]
  },
  {
   "cell_type": "code",
   "execution_count": 8,
   "id": "dde93690",
   "metadata": {},
   "outputs": [
    {
     "name": "stdout",
     "output_type": "stream",
     "text": [
      "[10.          8.          6.4         5.12        4.096       3.2768\n",
      "  2.62144     2.097152    1.6777216   1.34217728  1.07374182  0.85899346\n",
      "  0.68719477  0.54975581  0.43980465  0.35184372  0.28147498  0.22517998\n",
      "  0.18014399  0.14411519  0.11529215]\n"
     ]
    },
    {
     "data": {
      "image/png": "[encoded data removed]",
      "text/plain": [
       "<Figure size 432x288 with 1 Axes>"
      ]
     },
     "metadata": {
      "needs_background": "light"
     },
     "output_type": "display_data"
    }
   ],
   "source": [
    "import numpy as np\n",
    "import matplotlib.pyplot as plt\n",
    "\n",
    "# 目標函數:y=x^2\n",
    "def func(x): return np.square(x)\n",
    "\n",
    "# 目標函數一階導數:dy/dx=2*x\n",
    "def dfunc(x): return 2 * x\n",
    "\n",
    "def GD(x_start, df, epochs, lr):    \n",
    "    \"\"\"  梯度下降法。給定起始點與目標函數的一階導函數，求在epochs次反覆運算中x的更新值\n",
    "        :param x_start: x的起始點    \n",
    "        :param df: 目標函數的一階導函數    \n",
    "        :param epochs: 反覆運算週期    \n",
    "        :param lr: 學習率    \n",
    "        :return: x在每次反覆運算後的位置（包括起始點），長度為epochs+1    \n",
    "     \"\"\"    \n",
    "    xs = np.zeros(epochs+1)    \n",
    "    x = x_start    \n",
    "    xs[0] = x    \n",
    "    for i in range(epochs):         \n",
    "        dx = df(x)        \n",
    "        # v表示x要改變的幅度        \n",
    "        v = - dx * lr        \n",
    "        x += v        \n",
    "        xs[i+1] = x    \n",
    "    return xs\n",
    "\n",
    "# Main\n",
    "# 起始權重\n",
    "x_start = 10\n",
    "# 執行週期數\n",
    "epochs = 20 \n",
    "# 學習率   \n",
    "lr = 0.1\n",
    "# 梯度下降法 \n",
    "x = GD(x_start, dfunc, epochs, lr=lr) \n",
    "print (x)\n",
    "# 輸出：[-5.     -2.     -0.8    -0.32   -0.128  -0.0512]\n",
    "\n",
    "color = 'r'    \n",
    "#plt.plot(line_x, line_y, c='b')    \n",
    "from numpy import arange\n",
    "t = arange(-6.0, 6.0, 0.01)\n",
    "plt.plot(t, func(t), c='b')\n",
    "plt.plot(x, func(x), c=color, label='lr={}'.format(lr))    \n",
    "plt.scatter(x, func(x), c=color, )    \n",
    "plt.legend()\n",
    "\n",
    "plt.show()"
   ]
  },
  {
   "cell_type": "code",
   "execution_count": null,
   "id": "71e61efc",
   "metadata": {},
   "outputs": [],
   "source": []
  }
 ],
 "metadata": {
  "kernelspec": {
   "display_name": "Python 3",
   "language": "python",
   "name": "python3"
  },
  "language_info": {
   "codemirror_mode": {
    "name": "ipython",
    "version": 3
   },
   "file_extension": ".py",
   "mimetype": "text/x-python",
   "name": "python",
   "nbconvert_exporter": "python",
   "pygments_lexer": "ipython3",
   "version": "3.8.8"
  }
 },
 "nbformat": 4,
 "nbformat_minor": 5
}
